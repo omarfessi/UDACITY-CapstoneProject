{
 "cells": [
  {
   "cell_type": "code",
   "execution_count": 1,
   "metadata": {},
   "outputs": [],
   "source": [
    "# I run this notebook on my local machine, so you need to pip install all necessary packages\n",
    "import boto3\n",
    "import pandas as pd\n",
    "import json\n",
    "import matplotlib.pyplot as plt \n",
    "from time import time\n",
    "import psycopg2\n",
    "import configparser\n",
    "import numpy as np"
   ]
  },
  {
   "cell_type": "code",
   "execution_count": 2,
   "metadata": {},
   "outputs": [
    {
     "data": {
      "text/plain": [
       "\" I ll need to configparse ARN the next time after creating ARN, not the first time \\nARN                    = config.get('IAM_ROLE','ARN')\\nARN2                   = config.get('IAM_ROLE','ARN2')\""
      ]
     },
     "execution_count": 2,
     "metadata": {},
     "output_type": "execute_result"
    }
   ],
   "source": [
    "# \n",
    "config = configparser.ConfigParser()\n",
    "config.read_file(open('redshift-config.cfg'))\n",
    "\n",
    "KEY                    = config.get('IAM_USER', 'KEY')\n",
    "SECRET                 = config.get('IAM_USER', 'SECRET')\n",
    "\n",
    "\n",
    "IAM_ROLE_NAME          = config.get('IAM_ROLE', 'IAM_ROLE_NAME')\n",
    "\n",
    "\n",
    "CLUSTER_IDENTIFIER     = config.get('AWS', 'CLUSTER_IDENTIFIER')\n",
    "CLUSTER_TYPE           = config.get('AWS', 'CLUSTER_TYPE')\n",
    "NUM_NODES              = config.get('AWS', 'NUM_NODES')\n",
    "NODE_TYPE              = config.get('AWS', 'NODE_TYPE')\n",
    "\n",
    "\n",
    "DB_NAME                = config.get('CLUSTER', 'DB_NAME')\n",
    "DB_USER                = config.get('CLUSTER', 'DB_USER')\n",
    "DB_PASSWORD            = config.get('CLUSTER', 'DB_PASSWORD')\n",
    "DB_PORT                = config.get('CLUSTER', 'DB_PORT')\n",
    "\n",
    "\n",
    "#DWH_IAM_ROLE_NAME      = config.get('DWH', 'DWH_IAM_ROLE_NAME' )\n",
    "\n",
    "\"\"\" I ll need to configparse ARN the next time after creating ARN, not the first time \n",
    "ARN                    = config.get('IAM_ROLE','ARN')\n",
    "ARN2                   = config.get('IAM_ROLE','ARN2')\"\"\""
   ]
  },
  {
   "cell_type": "code",
   "execution_count": 4,
   "metadata": {},
   "outputs": [
    {
     "data": {
      "text/html": [
       "<div>\n",
       "<style scoped>\n",
       "    .dataframe tbody tr th:only-of-type {\n",
       "        vertical-align: middle;\n",
       "    }\n",
       "\n",
       "    .dataframe tbody tr th {\n",
       "        vertical-align: top;\n",
       "    }\n",
       "\n",
       "    .dataframe thead th {\n",
       "        text-align: right;\n",
       "    }\n",
       "</style>\n",
       "<table border=\"1\" class=\"dataframe\">\n",
       "  <thead>\n",
       "    <tr style=\"text-align: right;\">\n",
       "      <th></th>\n",
       "      <th>Params</th>\n",
       "      <th>Values</th>\n",
       "    </tr>\n",
       "  </thead>\n",
       "  <tbody>\n",
       "    <tr>\n",
       "      <th>0</th>\n",
       "      <td>CLUSTER_IDENTIFIER</td>\n",
       "      <td>capstone-project-2021</td>\n",
       "    </tr>\n",
       "    <tr>\n",
       "      <th>1</th>\n",
       "      <td>CLUSTER_TYPE</td>\n",
       "      <td>multi-node</td>\n",
       "    </tr>\n",
       "    <tr>\n",
       "      <th>2</th>\n",
       "      <td>NUM_NODES</td>\n",
       "      <td>4</td>\n",
       "    </tr>\n",
       "    <tr>\n",
       "      <th>3</th>\n",
       "      <td>NODE_TYPE</td>\n",
       "      <td>dc2.large</td>\n",
       "    </tr>\n",
       "    <tr>\n",
       "      <th>4</th>\n",
       "      <td>DB_NAME</td>\n",
       "      <td>my_database</td>\n",
       "    </tr>\n",
       "    <tr>\n",
       "      <th>5</th>\n",
       "      <td>DB_USER</td>\n",
       "      <td>database_user-12</td>\n",
       "    </tr>\n",
       "    <tr>\n",
       "      <th>6</th>\n",
       "      <td>DB_PASSWORD</td>\n",
       "      <td>projectPassw0rd</td>\n",
       "    </tr>\n",
       "    <tr>\n",
       "      <th>7</th>\n",
       "      <td>DB_PORT</td>\n",
       "      <td>5439</td>\n",
       "    </tr>\n",
       "    <tr>\n",
       "      <th>8</th>\n",
       "      <td>IAM_ROLE_NAME</td>\n",
       "      <td>iamRoleName</td>\n",
       "    </tr>\n",
       "  </tbody>\n",
       "</table>\n",
       "</div>"
      ],
      "text/plain": [
       "               Params                 Values\n",
       "0  CLUSTER_IDENTIFIER  capstone-project-2021\n",
       "1        CLUSTER_TYPE             multi-node\n",
       "2           NUM_NODES                      4\n",
       "3           NODE_TYPE              dc2.large\n",
       "4             DB_NAME            my_database\n",
       "5             DB_USER       database_user-12\n",
       "6         DB_PASSWORD        projectPassw0rd\n",
       "7             DB_PORT                   5439\n",
       "8       IAM_ROLE_NAME            iamRoleName"
      ]
     },
     "execution_count": 4,
     "metadata": {},
     "output_type": "execute_result"
    }
   ],
   "source": [
    "pd.DataFrame({\"Params\":\n",
    "              [ \"CLUSTER_IDENTIFIER\",\"CLUSTER_TYPE\", \"NUM_NODES\",\"NODE_TYPE\",\"DB_NAME\",\"DB_USER\",\\\n",
    "               \"DB_PASSWORD\",\"DB_PORT\", \"IAM_ROLE_NAME\"  ],\n",
    "             \"Values\":\n",
    "             [ CLUSTER_IDENTIFIER,CLUSTER_TYPE, NUM_NODES,NODE_TYPE,DB_NAME,DB_USER,\\\n",
    "               DB_PASSWORD,DB_PORT, IAM_ROLE_NAME]})"
   ]
  },
  {
   "cell_type": "markdown",
   "metadata": {},
   "source": [
    "### Client for IAM, EC2, S3, and RedShift "
   ]
  },
  {
   "cell_type": "code",
   "execution_count": 5,
   "metadata": {},
   "outputs": [],
   "source": [
    "ec2 = boto3.resource('ec2', \n",
    "                    region_name=\"us-west-2\",\n",
    "                    aws_access_key_id     = KEY,\n",
    "                    aws_secret_access_key = SECRET\n",
    "                    )\n",
    "\n",
    "s3 = boto3.resource('s3',\n",
    "                   region_name='us-west-2',\n",
    "                   aws_access_key_id      = KEY,\n",
    "                   aws_secret_access_key  = SECRET\n",
    "                   )\n",
    "\n",
    "iam = boto3.client('iam', \n",
    "                region_name='us-west-2',\n",
    "                aws_access_key_id         = KEY,\n",
    "                aws_secret_access_key     = SECRET\n",
    "                )\n",
    "\n",
    "redshift = boto3.client('redshift',\n",
    "                      region_name='us-west-2',\n",
    "                      aws_access_key_id    = KEY,\n",
    "                      aws_secret_access_key= SECRET\n",
    "                      )"
   ]
  },
  {
   "cell_type": "markdown",
   "metadata": {},
   "source": [
    "## STEP1 : IAM ROLE\n",
    "##### Create an IAM Role that enables RedShift to access S3 bucket ( ReadOnly) "
   ]
  },
  {
   "cell_type": "code",
   "execution_count": 6,
   "metadata": {},
   "outputs": [
    {
     "name": "stdout",
     "output_type": "stream",
     "text": [
      "1.3 Get the IAM role ARN\n",
      "arn:aws:iam::185187464837:role/iamRoleName\n"
     ]
    }
   ],
   "source": [
    "\"\"\"from botocore.exceptions import ClientError\n",
    "\n",
    "#1.1 Create the role\n",
    "try:\n",
    "    print(\"1.1 Creating a new IAM Role called Omaar-IAM-FOR-AIRFLOW\") \n",
    "    dwhRole = iam.create_role(\n",
    "        Path='/',\n",
    "        RoleName=IAM_ROLE_NAME,\n",
    "        Description = \"Allows Redshift clusters to call AWS services on your behalf.\",\n",
    "        AssumeRolePolicyDocument=json.dumps(\n",
    "            {'Statement': [{'Action': 'sts:AssumeRole','Effect': 'Allow','Principal': {'Service': 'redshift.amazonaws.com'}}],\n",
    "             'Version': '2012-10-17'})\n",
    "    )    \n",
    "except Exception as e:\n",
    "    print(e)\n",
    "    \n",
    "\n",
    "print(\"1.2 Attaching Policy\")\n",
    "\n",
    "iam.attach_role_policy(RoleName=IAM_ROLE_NAME,PolicyArn=\"arn:aws:iam::aws:policy/AmazonS3ReadOnlyAccess\")['ResponseMetadata']['HTTPStatusCode']\n",
    "\"\"\"\n",
    "print(\"1.3 Get the IAM role ARN\")\n",
    "roleArn = iam.get_role(RoleName=IAM_ROLE_NAME)['Role']['Arn']\n",
    "\n",
    "\n",
    "print(roleArn)"
   ]
  },
  {
   "cell_type": "markdown",
   "metadata": {},
   "source": [
    "## STEP2: Redshift Cluster\n",
    "##### Create a RedShift Cluster"
   ]
  },
  {
   "cell_type": "code",
   "execution_count": 7,
   "metadata": {},
   "outputs": [],
   "source": [
    "try:\n",
    "    response= redshift.create_cluster( ClusterType   = CLUSTER_TYPE,\n",
    "                                  NodeType           = NODE_TYPE,\n",
    "                                  NumberOfNodes      = int(NUM_NODES),\n",
    "                                  \n",
    "                                  #identifiers & credentials\n",
    "                                  DBName             = DB_NAME,\n",
    "                                  ClusterIdentifier  = CLUSTER_IDENTIFIER,\n",
    "                                  MasterUsername     = DB_USER,\n",
    "                                  MasterUserPassword = DB_PASSWORD,\n",
    "                                  \n",
    "                                  #Roles ( for s3 access)\n",
    "                                  IamRoles = [roleArn] \n",
    "                                 )\n",
    "except Exception as e:\n",
    "    print(e)"
   ]
  },
  {
   "cell_type": "markdown",
   "metadata": {},
   "source": [
    "#### Describe the cluster to see its status "
   ]
  },
  {
   "cell_type": "code",
   "execution_count": 8,
   "metadata": {},
   "outputs": [
    {
     "data": {
      "text/html": [
       "<div>\n",
       "<style scoped>\n",
       "    .dataframe tbody tr th:only-of-type {\n",
       "        vertical-align: middle;\n",
       "    }\n",
       "\n",
       "    .dataframe tbody tr th {\n",
       "        vertical-align: top;\n",
       "    }\n",
       "\n",
       "    .dataframe thead th {\n",
       "        text-align: right;\n",
       "    }\n",
       "</style>\n",
       "<table border=\"1\" class=\"dataframe\">\n",
       "  <thead>\n",
       "    <tr style=\"text-align: right;\">\n",
       "      <th></th>\n",
       "      <th>Key</th>\n",
       "      <th>Value</th>\n",
       "    </tr>\n",
       "  </thead>\n",
       "  <tbody>\n",
       "    <tr>\n",
       "      <th>0</th>\n",
       "      <td>ClusterIdentifier</td>\n",
       "      <td>capstone-project-2021</td>\n",
       "    </tr>\n",
       "    <tr>\n",
       "      <th>1</th>\n",
       "      <td>NodeType</td>\n",
       "      <td>dc2.large</td>\n",
       "    </tr>\n",
       "    <tr>\n",
       "      <th>2</th>\n",
       "      <td>ClusterStatus</td>\n",
       "      <td>creating</td>\n",
       "    </tr>\n",
       "    <tr>\n",
       "      <th>3</th>\n",
       "      <td>MasterUsername</td>\n",
       "      <td>database_user-12</td>\n",
       "    </tr>\n",
       "    <tr>\n",
       "      <th>4</th>\n",
       "      <td>DBName</td>\n",
       "      <td>my_database</td>\n",
       "    </tr>\n",
       "    <tr>\n",
       "      <th>5</th>\n",
       "      <td>VpcId</td>\n",
       "      <td>vpc-61eca419</td>\n",
       "    </tr>\n",
       "    <tr>\n",
       "      <th>6</th>\n",
       "      <td>NumberOfNodes</td>\n",
       "      <td>4</td>\n",
       "    </tr>\n",
       "  </tbody>\n",
       "</table>\n",
       "</div>"
      ],
      "text/plain": [
       "                 Key                  Value\n",
       "0  ClusterIdentifier  capstone-project-2021\n",
       "1           NodeType              dc2.large\n",
       "2      ClusterStatus               creating\n",
       "3     MasterUsername       database_user-12\n",
       "4             DBName            my_database\n",
       "5              VpcId           vpc-61eca419\n",
       "6      NumberOfNodes                      4"
      ]
     },
     "execution_count": 8,
     "metadata": {},
     "output_type": "execute_result"
    }
   ],
   "source": [
    "def description (props):\n",
    "    pd.set_option('display.max_colwidth',None)\n",
    "    keyToShow= [\"ClusterIdentifier\", \"NodeType\", \"ClusterStatus\", \"MasterUsername\", \"DBName\", \"Endpoint\", \"NumberOfNodes\", 'VpcId']\n",
    "    x = [(k,v) for k,v in props.items() if k in keyToShow]\n",
    "    return pd.DataFrame(data=x,columns=['Key','Value'])\n",
    "myClusterProps = redshift.describe_clusters(ClusterIdentifier=CLUSTER_IDENTIFIER)['Clusters'][0]\n",
    "description( myClusterProps)"
   ]
  },
  {
   "cell_type": "code",
   "execution_count": null,
   "metadata": {},
   "outputs": [],
   "source": [
    "# do not run this for the first time \n",
    "#if a psycopg2 execution fails please run the this cell to close the connection and reconnect\n",
    "conn.close()"
   ]
  },
  {
   "cell_type": "code",
   "execution_count": 9,
   "metadata": {},
   "outputs": [],
   "source": [
    "# this one is functional ( les parametre dans cfg sont dans l'order pour CLUSTER ) \n",
    "conn = psycopg2.connect(\"host={} dbname={} user={} password={} port={}\".format(*config['CLUSTER'].values()))\n",
    "cur=conn.cursor()"
   ]
  },
  {
   "cell_type": "markdown",
   "metadata": {},
   "source": [
    "## STEP 3 : Import data, check it and do analysis"
   ]
  },
  {
   "cell_type": "markdown",
   "metadata": {},
   "source": [
    "### Drop tables if they exist"
   ]
  },
  {
   "cell_type": "code",
   "execution_count": 10,
   "metadata": {},
   "outputs": [],
   "source": [
    "date_time_drop=\"DROP TABLE IF EXISTS date_time CASCADE\"\n",
    "calendar_drop=\"DROP TABLE IF EXISTS calendar CASCADE\"\n",
    "location_drop=\"DROP TABLE IF EXISTS location CASCADE\"\n",
    "hosts_drop=\"DROP TABLE IF EXISTS hosts CASCADE\"\n",
    "listings_drop=\"DROP TABLE IF EXISTS listings CASCADE\"\n",
    "reviewers_drop=\"DROP TABLE IF EXISTS reviewers CASCADE\"\n",
    "reviews_drop=\"DROP TABLE IF EXISTS reviews CASCADE\""
   ]
  },
  {
   "cell_type": "code",
   "execution_count": 11,
   "metadata": {},
   "outputs": [],
   "source": [
    "drop_all_tables=[date_time_drop,calendar_drop, location_drop,hosts_drop,reviewers_drop,listings_drop ,reviews_drop]"
   ]
  },
  {
   "cell_type": "code",
   "execution_count": 12,
   "metadata": {},
   "outputs": [],
   "source": [
    "for query in drop_all_tables:\n",
    "    cur.execute(query)\n",
    "    conn.commit()"
   ]
  },
  {
   "cell_type": "markdown",
   "metadata": {},
   "source": [
    "### Create tables "
   ]
  },
  {
   "cell_type": "code",
   "execution_count": 13,
   "metadata": {},
   "outputs": [],
   "source": [
    "date_time_create=\"\"\"CREATE TABLE IF NOT EXISTS date_time(\n",
    "date date PRIMARY KEY ,\n",
    "day_of_month integer,\n",
    "week integer,\n",
    "month integer,\n",
    "year integer,\n",
    "day varchar)\n",
    "\"\"\"\n",
    "calendar_create=\"\"\"\n",
    "CREATE TABLE IF NOT EXISTS calendar(\n",
    "calendar_id integer PRIMARY KEY,\n",
    "listing_id integer references listings (id),\n",
    "date date references date_time(date),\n",
    "available boolean,\n",
    "price float)\n",
    "\"\"\"\n",
    "location_create=\"\"\"\n",
    "CREATE TABLE IF NOT EXISTS location(\n",
    "location_id integer PRIMARY KEY, \n",
    "latitude float,\n",
    "longitude float,\n",
    "street VARCHAR ,\n",
    "zipcode VARCHAR,\n",
    "city VARCHAR,\n",
    "country VARCHAR\n",
    ")\n",
    "\n",
    "\"\"\"\n",
    "\n",
    "hosts_create=\"\"\"CREATE TABLE IF NOT EXISTS hosts (\n",
    "host_id integer PRIMARY KEY, \n",
    "host_name varchar  , \n",
    "host_about varchar (10000), \n",
    "host_response_time varchar, \n",
    "host_response_rate float,\n",
    "host_is_superhost boolean,\n",
    "host_location varchar,\n",
    "host_identity_verified boolean\n",
    ")\n",
    "\"\"\"\n",
    "listings_create=\"\"\"\n",
    "CREATE TABLE IF NOT EXISTS listings (\n",
    "id integer PRIMARY KEY,\n",
    "host_id integer references hosts(host_id),\n",
    "location_id integer references location (location_id),\n",
    "price float,\n",
    "weekly_price float,\n",
    "monthly_price float,\n",
    "security_deposit float ,\n",
    "cleaning_fee float ,\n",
    "guests_included float,\n",
    "extra_people float,\n",
    "listing_url varchar,\n",
    "property_type varchar ,\n",
    "accommodates integer,\n",
    "room_type varchar ,\n",
    "bathrooms float,\n",
    "bedrooms float,\n",
    "beds float,\n",
    "bed_type varchar,\n",
    "amenities varchar (9000),\n",
    "review_scores_rating float,\n",
    "review_scores_accuracy float,\n",
    "review_scores_cleanliness float,\n",
    "review_scores_location float,\n",
    "review_scores_value float,\n",
    "cancellation_policy varchar,\n",
    "require_guest_profile_picture boolean,\n",
    "require_guest_phone_verification boolean)\n",
    "\"\"\"\n",
    "reviewers_create=\"\"\"CREATE TABLE IF NOT EXISTS reviewers (\n",
    "reviewer_id integer PRIMARY KEY,\n",
    "reviewer_name varchar )\"\"\"\n",
    "\n",
    "reviews_create=\"\"\"CREATE TABLE IF NOT EXISTS reviews(\n",
    "id integer PRIMARY KEY,\n",
    "listing_id integer references listings (id),\n",
    "date date references date_time(date),\n",
    "reviewer_id integer references reviewers (reviewer_id),\n",
    "comments varchar (10000)\n",
    ")\n",
    "\"\"\""
   ]
  },
  {
   "cell_type": "code",
   "execution_count": 14,
   "metadata": {},
   "outputs": [],
   "source": [
    "create_table_queries=[date_time_create, location_create,\\\n",
    "                      hosts_create, listings_create, calendar_create,reviewers_create, reviews_create]"
   ]
  },
  {
   "cell_type": "code",
   "execution_count": 15,
   "metadata": {},
   "outputs": [],
   "source": [
    "for query in create_table_queries:\n",
    "    cur.execute(query)\n",
    "    conn.commit()"
   ]
  },
  {
   "cell_type": "markdown",
   "metadata": {},
   "source": [
    "### Copy from S3 into Redshift"
   ]
  },
  {
   "cell_type": "code",
   "execution_count": 16,
   "metadata": {},
   "outputs": [],
   "source": [
    "date_time_copy=(\"\"\" copy date_time  from {} iam_role '{}' format as parquet ;\"\"\").\\\n",
    "format(config['S3']['date_time'],config['IAM_ROLE']['ARN'])"
   ]
  },
  {
   "cell_type": "code",
   "execution_count": 17,
   "metadata": {},
   "outputs": [],
   "source": [
    "calendar_copy=(\"\"\" \n",
    "copy calendar from {} \n",
    "iam_role '{}'\n",
    "format as parquet ;\"\"\").format(config['S3']['calendar'],config['IAM_ROLE']['ARN'])"
   ]
  },
  {
   "cell_type": "code",
   "execution_count": 18,
   "metadata": {},
   "outputs": [],
   "source": [
    "location_copy=(\"\"\" \n",
    "copy location from {} \n",
    "iam_role '{}'\n",
    "format as parquet  ;\"\"\").format(config['S3']['location'],config['IAM_ROLE']['ARN'])"
   ]
  },
  {
   "cell_type": "code",
   "execution_count": 19,
   "metadata": {},
   "outputs": [],
   "source": [
    "hosts_copy=(\"\"\" \n",
    "copy hosts from {} \n",
    "iam_role '{}'\n",
    "format as parquet  ;\"\"\").format(config['S3']['hosts'],config['IAM_ROLE']['ARN'])"
   ]
  },
  {
   "cell_type": "code",
   "execution_count": 20,
   "metadata": {},
   "outputs": [],
   "source": [
    "listings_copy=(\"\"\" \n",
    "copy listings from {} \n",
    "iam_role '{}'\n",
    "format as parquet ;\"\"\").format(config['S3']['listings'],config['IAM_ROLE']['ARN'])"
   ]
  },
  {
   "cell_type": "code",
   "execution_count": 21,
   "metadata": {},
   "outputs": [],
   "source": [
    "reviewers_copy=(\"\"\" \n",
    "copy reviewers from {} \n",
    "iam_role '{}'\n",
    "format as parquet ;\"\"\").format(config['S3']['reviewers'],config['IAM_ROLE']['ARN'])"
   ]
  },
  {
   "cell_type": "code",
   "execution_count": 22,
   "metadata": {},
   "outputs": [],
   "source": [
    "reviews_copy=(\"\"\" \n",
    "copy reviews from {} \n",
    "iam_role '{}'\n",
    "format as parquet  ;\"\"\").format(config['S3']['reviews'],config['IAM_ROLE']['ARN'])"
   ]
  },
  {
   "cell_type": "code",
   "execution_count": 23,
   "metadata": {},
   "outputs": [],
   "source": [
    "copy_all_tables={'date_time':date_time_copy,'calendar':calendar_copy,\\\n",
    "                 'location':location_copy,'hosts':hosts_copy,\\\n",
    "                 'listings':listings_copy, 'reviewers':reviewers_copy, 'reviews':reviews_copy}"
   ]
  },
  {
   "cell_type": "code",
   "execution_count": 24,
   "metadata": {},
   "outputs": [
    {
     "name": "stdout",
     "output_type": "stream",
     "text": [
      "=== COPYING TABLE __date_time__ IS DONE IN : 14.369196891784668 sec\n",
      " \n",
      "=== COPYING TABLE __calendar__ IS DONE IN : 9.001993179321289 sec\n",
      " \n",
      "=== COPYING TABLE __location__ IS DONE IN : 3.066822052001953 sec\n",
      " \n",
      "=== COPYING TABLE __hosts__ IS DONE IN : 8.107087850570679 sec\n",
      " \n",
      "=== COPYING TABLE __listings__ IS DONE IN : 8.379455089569092 sec\n",
      " \n",
      "=== COPYING TABLE __reviewers__ IS DONE IN : 5.819473743438721 sec\n",
      " \n",
      "=== COPYING TABLE __reviews__ IS DONE IN : 5.169198036193848 sec\n",
      " \n"
     ]
    }
   ],
   "source": [
    "for query in copy_all_tables:\n",
    "    t0=time()\n",
    "    cur.execute(copy_all_tables[query])\n",
    "    conn.commit()\n",
    "    copyTime=time()-t0\n",
    "    print(\"=== COPYING TABLE __{}__ IS DONE IN : {} sec\\n \". format(query,copyTime))"
   ]
  },
  {
   "cell_type": "markdown",
   "metadata": {},
   "source": [
    "## Run Quality Check"
   ]
  },
  {
   "cell_type": "code",
   "execution_count": 25,
   "metadata": {},
   "outputs": [],
   "source": [
    "query1=\"SELECT count(*) FROM date_time;\"\n",
    "query2=\"SELECT count(*) FROM calendar;\"\n",
    "query3=\"SELECT count(*) FROM location;\"\n",
    "query4=\"SELECT count(*) FROM hosts;\"\n",
    "query5=\"SELECT count(*) FROM listings;\"\n",
    "query6=\"SELECT count(*) FROM reviewers;\"\n",
    "query7=\"SELECT count(*) FROM reviews;\"\n",
    "count_queries={\"date_time_records_count\":query1, \"calendar_records_count\":query2, \"location_records_count\":query3,\\\n",
    "             \"hosts_records_count\":query4, \"listings_records_count\":query5,\"reviewers_records_count\":query6,\\\n",
    "             \"reviews_records_count\":query7}"
   ]
  },
  {
   "cell_type": "markdown",
   "metadata": {},
   "source": [
    "#### record count per table"
   ]
  },
  {
   "cell_type": "code",
   "execution_count": 26,
   "metadata": {},
   "outputs": [
    {
     "name": "stdout",
     "output_type": "stream",
     "text": [
      "date_time_records_count : 3240\n",
      "calendar_records_count : 7310950\n",
      "location_records_count : 20029\n",
      "hosts_records_count : 17263\n",
      "listings_records_count : 20006\n",
      "reviewers_records_count : 411813\n",
      "reviews_records_count : 431830\n"
     ]
    }
   ],
   "source": [
    "for query in count_queries:\n",
    "    cur.execute(count_queries[query])\n",
    "    rows=cur.fetchall()\n",
    "    conn.commit()\n",
    "    print(query,\":\",rows[0][0])"
   ]
  },
  {
   "cell_type": "markdown",
   "metadata": {},
   "source": [
    "### Analysis"
   ]
  },
  {
   "cell_type": "markdown",
   "metadata": {},
   "source": [
    "#### min, max, and average price of all the available listings "
   ]
  },
  {
   "cell_type": "code",
   "execution_count": 27,
   "metadata": {},
   "outputs": [
    {
     "name": "stdout",
     "output_type": "stream",
     "text": [
      "The minimum price of a listing is $9.0, maximum price is $8500.0 , and average price is $207.655591210853\n"
     ]
    }
   ],
   "source": [
    "query=\"\"\"SELECT min (price), max (price), avg (price) FROM calendar; \"\"\"\n",
    "cur.execute(query)\n",
    "rows=cur.fetchall()\n",
    "conn.commit()\n",
    "print(\"The minimum price of a listing is ${}, maximum price is ${} , and average price is ${}\"\\\n",
    "      .format(rows[0][0], rows[0][1], rows[0][2]))"
   ]
  },
  {
   "cell_type": "markdown",
   "metadata": {},
   "source": [
    "#### average price per listing: top10 "
   ]
  },
  {
   "cell_type": "code",
   "execution_count": 28,
   "metadata": {},
   "outputs": [],
   "source": [
    "query=\"\"\"SELECT listing_id, AVG ( price) as average_price FROM calendar \\\n",
    "GROUP BY (listing_id) HAVING average_price is not null\n",
    "ORDER BY ( average_price) DESC LIMIT 10;\"\"\""
   ]
  },
  {
   "cell_type": "code",
   "execution_count": 29,
   "metadata": {
    "scrolled": true
   },
   "outputs": [
    {
     "name": "stdout",
     "output_type": "stream",
     "text": [
      "The average price of the listing __12213707__ is $8500.0\n",
      "The average price of the listing __258273__ is $8000.0\n",
      "The average price of the listing __5587500__ is $4782.96703296703\n",
      "The average price of the listing __25349319__ is $3900.0\n",
      "The average price of the listing __15626614__ is $3142.0\n",
      "The average price of the listing __28651212__ is $3000.0\n",
      "The average price of the listing __11040717__ is $2500.0\n",
      "The average price of the listing __19559616__ is $2500.0\n",
      "The average price of the listing __28973126__ is $2257.50699300699\n",
      "The average price of the listing __17525867__ is $2200.0\n"
     ]
    }
   ],
   "source": [
    "cur.execute(query)\n",
    "rows=cur.fetchall()\n",
    "conn.commit()\n",
    "for row in rows:\n",
    "    print( \"The average price of the listing __{}__ is ${}\".format(row[0], row[1]))"
   ]
  },
  {
   "cell_type": "markdown",
   "metadata": {},
   "source": [
    "The listings '12213707' & '258273' must be luxurious "
   ]
  },
  {
   "cell_type": "markdown",
   "metadata": {},
   "source": [
    "#### top recurrent prices"
   ]
  },
  {
   "cell_type": "code",
   "execution_count": 30,
   "metadata": {},
   "outputs": [],
   "source": [
    "query=\"\"\"SELECT average_price, count(average_price) as counts FROM (SELECT listing_id, AVG ( price) as average_price FROM calendar \\\n",
    "GROUP BY (listing_id) HAVING average_price is not null) GROUP BY average_price ORDER BY counts DESC LIMIT 10  ;\"\"\""
   ]
  },
  {
   "cell_type": "code",
   "execution_count": 31,
   "metadata": {},
   "outputs": [],
   "source": [
    "cur.execute(query)\n",
    "rows=cur.fetchall()\n",
    "conn.commit()\n",
    "data=pd.DataFrame(rows, columns=['average_price', 'counts'])"
   ]
  },
  {
   "cell_type": "code",
   "execution_count": 32,
   "metadata": {
    "scrolled": true
   },
   "outputs": [
    {
     "data": {
      "text/html": [
       "<div>\n",
       "<style scoped>\n",
       "    .dataframe tbody tr th:only-of-type {\n",
       "        vertical-align: middle;\n",
       "    }\n",
       "\n",
       "    .dataframe tbody tr th {\n",
       "        vertical-align: top;\n",
       "    }\n",
       "\n",
       "    .dataframe thead th {\n",
       "        text-align: right;\n",
       "    }\n",
       "</style>\n",
       "<table border=\"1\" class=\"dataframe\">\n",
       "  <thead>\n",
       "    <tr style=\"text-align: right;\">\n",
       "      <th></th>\n",
       "      <th>average_price</th>\n",
       "      <th>counts</th>\n",
       "    </tr>\n",
       "  </thead>\n",
       "  <tbody>\n",
       "    <tr>\n",
       "      <th>0</th>\n",
       "      <td>150.0</td>\n",
       "      <td>255</td>\n",
       "    </tr>\n",
       "    <tr>\n",
       "      <th>1</th>\n",
       "      <td>100.0</td>\n",
       "      <td>180</td>\n",
       "    </tr>\n",
       "    <tr>\n",
       "      <th>2</th>\n",
       "      <td>120.0</td>\n",
       "      <td>175</td>\n",
       "    </tr>\n",
       "    <tr>\n",
       "      <th>3</th>\n",
       "      <td>200.0</td>\n",
       "      <td>145</td>\n",
       "    </tr>\n",
       "    <tr>\n",
       "      <th>4</th>\n",
       "      <td>125.0</td>\n",
       "      <td>131</td>\n",
       "    </tr>\n",
       "    <tr>\n",
       "      <th>5</th>\n",
       "      <td>250.0</td>\n",
       "      <td>123</td>\n",
       "    </tr>\n",
       "    <tr>\n",
       "      <th>6</th>\n",
       "      <td>140.0</td>\n",
       "      <td>121</td>\n",
       "    </tr>\n",
       "    <tr>\n",
       "      <th>7</th>\n",
       "      <td>175.0</td>\n",
       "      <td>99</td>\n",
       "    </tr>\n",
       "    <tr>\n",
       "      <th>8</th>\n",
       "      <td>110.0</td>\n",
       "      <td>95</td>\n",
       "    </tr>\n",
       "    <tr>\n",
       "      <th>9</th>\n",
       "      <td>180.0</td>\n",
       "      <td>91</td>\n",
       "    </tr>\n",
       "  </tbody>\n",
       "</table>\n",
       "</div>"
      ],
      "text/plain": [
       "   average_price  counts\n",
       "0          150.0     255\n",
       "1          100.0     180\n",
       "2          120.0     175\n",
       "3          200.0     145\n",
       "4          125.0     131\n",
       "5          250.0     123\n",
       "6          140.0     121\n",
       "7          175.0      99\n",
       "8          110.0      95\n",
       "9          180.0      91"
      ]
     },
     "execution_count": 32,
     "metadata": {},
     "output_type": "execute_result"
    }
   ],
   "source": [
    "data"
   ]
  },
  {
   "cell_type": "markdown",
   "metadata": {},
   "source": [
    "The majority of the listings' prices are between 100 & 150 dollars"
   ]
  },
  {
   "cell_type": "markdown",
   "metadata": {},
   "source": [
    "#### Number of available listings per month"
   ]
  },
  {
   "cell_type": "code",
   "execution_count": 33,
   "metadata": {},
   "outputs": [],
   "source": [
    "query=\"\"\" SELECT MIN (date), MAX (date) FROM calendar;\"\"\"\n",
    "cur.execute(query)\n",
    "rows=cur.fetchall()\n",
    "conn.commit()"
   ]
  },
  {
   "cell_type": "code",
   "execution_count": 34,
   "metadata": {},
   "outputs": [
    {
     "data": {
      "text/plain": [
       "[(datetime.date(2018, 12, 6), datetime.date(2019, 12, 6))]"
      ]
     },
     "execution_count": 34,
     "metadata": {},
     "output_type": "execute_result"
    }
   ],
   "source": [
    "rows"
   ]
  },
  {
   "cell_type": "code",
   "execution_count": 35,
   "metadata": {},
   "outputs": [],
   "source": [
    "query=\"\"\"SELECT dt.month, COUNT(DISTINCT ((listing_id))) \n",
    "         FROM calendar as cal\n",
    "         JOIN date_time as dt on dt.date=cal.date\n",
    "         WHERE cal.available = true\n",
    "         GROUP BY  dt.month \n",
    "         ORDER BY  dt.month\"\"\""
   ]
  },
  {
   "cell_type": "code",
   "execution_count": 36,
   "metadata": {},
   "outputs": [],
   "source": [
    "cur.execute(query)\n",
    "rows=cur.fetchall()\n",
    "conn.commit()"
   ]
  },
  {
   "cell_type": "code",
   "execution_count": 37,
   "metadata": {},
   "outputs": [
    {
     "name": "stdout",
     "output_type": "stream",
     "text": [
      "(1, 7269)\n",
      "(2, 5867)\n",
      "(3, 5557)\n",
      "(4, 4089)\n",
      "(5, 4188)\n",
      "(6, 4178)\n",
      "(7, 3282)\n",
      "(8, 3330)\n",
      "(9, 3317)\n",
      "(10, 3157)\n",
      "(11, 3156)\n",
      "(12, 8750)\n"
     ]
    }
   ],
   "source": [
    "for row in rows :\n",
    "    print(row)"
   ]
  },
  {
   "cell_type": "code",
   "execution_count": 38,
   "metadata": {},
   "outputs": [],
   "source": [
    "data=pd.DataFrame(rows, columns=['month', 'listings_per_month'])"
   ]
  },
  {
   "cell_type": "code",
   "execution_count": 39,
   "metadata": {},
   "outputs": [
    {
     "data": {
      "image/png": "[encoded data removed]",
      "text/plain": [
       "<Figure size 720x360 with 1 Axes>"
      ]
     },
     "metadata": {
      "needs_background": "light"
     },
     "output_type": "display_data"
    }
   ],
   "source": [
    "plt.figure(figsize=(10,5))\n",
    "plt.plot(data)\n",
    "plt.xticks(np.arange(1, 13, step=1))\n",
    "plt.ylabel('Number of listings')\n",
    "plt.xlabel('Month')\n",
    "plt.title('Number of listings per month from 06/12/18 to 06/12/19')\n",
    "\n",
    "plt.show()"
   ]
  },
  {
   "cell_type": "markdown",
   "metadata": {},
   "source": [
    "The diagram above shows that availability descreases in the summer to october ==> it reflects that people tends to travel to Amsterdam in summer"
   ]
  },
  {
   "cell_type": "code",
   "execution_count": 40,
   "metadata": {},
   "outputs": [],
   "source": [
    "query = \"\"\"SELECT room_type, count(id) counts FROM listings GROUP BY room_type ORDER BY counts DESC \"\"\""
   ]
  },
  {
   "cell_type": "code",
   "execution_count": 41,
   "metadata": {},
   "outputs": [],
   "source": [
    "cur.execute(query)\n",
    "rows=cur.fetchall()\n",
    "conn.commit()"
   ]
  },
  {
   "cell_type": "code",
   "execution_count": 42,
   "metadata": {},
   "outputs": [
    {
     "data": {
      "text/plain": [
       "[('Entire home/apt', 15874), ('Private room', 4067), ('Shared room', 65)]"
      ]
     },
     "execution_count": 42,
     "metadata": {},
     "output_type": "execute_result"
    }
   ],
   "source": [
    "rows"
   ]
  },
  {
   "cell_type": "markdown",
   "metadata": {},
   "source": [
    "#### number of listings per host "
   ]
  },
  {
   "cell_type": "code",
   "execution_count": 43,
   "metadata": {},
   "outputs": [],
   "source": [
    "query=\"\"\"SELECT listings.host_id, host_name, COUNT(listings.id) as counts FROM listings \n",
    "         JOIN hosts ON listings.host_id=hosts.host_id\n",
    "         GROUP BY listings.host_id, host_name ORDER BY counts DESC LIMIT 10\"\"\""
   ]
  },
  {
   "cell_type": "code",
   "execution_count": 44,
   "metadata": {},
   "outputs": [],
   "source": [
    "cur.execute(query)\n",
    "rows=cur.fetchall()\n",
    "conn.commit()"
   ]
  },
  {
   "cell_type": "code",
   "execution_count": 45,
   "metadata": {},
   "outputs": [
    {
     "data": {
      "text/plain": [
       "[(65859990, 'Martijn', 208),\n",
       " (1464510, 'Michiel And Jane', 105),\n",
       " (76104209, 'Rated', 83),\n",
       " (113977564, 'Willem', 38),\n",
       " (517215, 'Niels En Viv (Welcome Back)', 30),\n",
       " (107745142, 'Oscar', 27),\n",
       " (14183886, 'Luis', 25),\n",
       " (11969034, 'Raul', 24),\n",
       " (44168250, 'Ruben', 21),\n",
       " (7594884, 'Ruben, Sarah & Lindy', 21)]"
      ]
     },
     "execution_count": 45,
     "metadata": {},
     "output_type": "execute_result"
    }
   ],
   "source": [
    "rows"
   ]
  },
  {
   "cell_type": "markdown",
   "metadata": {},
   "source": [
    "As for these hosts having more than 20 listings, it is obvious that this it about professional hosting activities which is forbidden within AirBnB"
   ]
  },
  {
   "cell_type": "markdown",
   "metadata": {},
   "source": [
    "to know more about these hosts (I pick one 'Martijn') , below I issued an sql query to know more about him "
   ]
  },
  {
   "cell_type": "code",
   "execution_count": 46,
   "metadata": {},
   "outputs": [],
   "source": [
    "query=\"\"\"SELECT host_id, host_about from hosts where host_id='65859990'  ;\"\"\"\n",
    "cur.execute(query)\n",
    "rows=cur.fetchall()\n",
    "conn.commit()"
   ]
  },
  {
   "cell_type": "code",
   "execution_count": 47,
   "metadata": {
    "scrolled": true
   },
   "outputs": [
    {
     "data": {
      "text/plain": [
       "[(65859990,\n",
       "  \"Hi, I'm Martijn, \\r\\n\\r\\nWe are a team of professional hosts established by travelers just like you. We believe in sharing homes. Wherever you are, it is delightful to explore and discover an unknown city from an authentic home. \\r\\n\\r\\nOn behalf of home owners we advertise their properties through our airbnb profile and support them by offering you a pleasant stay. \\r\\n\\r\\nWhen you book your holiday with us, you can be confident of a memorable stay and an experience through the eyes of a local. We are more than happy to share our knowledge, give you the best insider tips and recommendations about Amsterdam.\\r\\n\\r\\nIf you have any questions, holiday wishes or simply want to have a chat, then feel free to contact us any time. We always reply within an hour!\\r\\n\\r\\nWe look forward to being your host! :)\")]"
      ]
     },
     "execution_count": 47,
     "metadata": {},
     "output_type": "execute_result"
    }
   ],
   "source": [
    "rows"
   ]
  },
  {
   "cell_type": "markdown",
   "metadata": {},
   "source": [
    "#### Most expensive strest in Amsterdam"
   ]
  },
  {
   "cell_type": "code",
   "execution_count": 48,
   "metadata": {},
   "outputs": [],
   "source": [
    "query=\"\"\"SELECT AVG (calendar.price) average_price, street \n",
    "         from calendar JOIN listings ON calendar.listing_id=listings.id \n",
    "                       JOIN location ON listings.location_id= location.location_id\n",
    "         WHERE calendar.available is true\n",
    "         GROUP BY street  ORDER BY average_price DESC LIMIT 10;\"\"\""
   ]
  },
  {
   "cell_type": "code",
   "execution_count": 49,
   "metadata": {},
   "outputs": [],
   "source": [
    "cur.execute(query)\n",
    "rows=cur.fetchall()\n",
    "conn.commit()"
   ]
  },
  {
   "cell_type": "code",
   "execution_count": 50,
   "metadata": {
    "scrolled": true
   },
   "outputs": [
    {
     "data": {
      "text/plain": [
       "[(597.578796561605, 'Amsterdam, GD, Netherlands'),\n",
       " (494.092024539877, 'Amsterdam, Emmy andriessestraat, Netherlands'),\n",
       " (431.01677852349, 'Amsterdam , Amsterdam, Netherlands'),\n",
       " (380.578512396694, 'Amsterdam, Nassaukade, Netherlands'),\n",
       " (265.0, 'Zaandam, Noord-Holland, Netherlands'),\n",
       " (239.0, 'Amsterdam, GE, Netherlands'),\n",
       " (231.0663507109, 'Amsterdam, Amsterdam, Netherlands'),\n",
       " (228.62466901158, 'Amsterdam, Netherlands'),\n",
       " (215.307090061015, 'Amsterdam, Noord-Holland, Netherlands'),\n",
       " (213.705882352941, 'Amsterdam, CE, Netherlands')]"
      ]
     },
     "execution_count": 50,
     "metadata": {},
     "output_type": "execute_result"
    }
   ],
   "source": [
    "rows"
   ]
  },
  {
   "cell_type": "markdown",
   "metadata": {},
   "source": [
    "below a list of the 10 most expensive streets in Amsterdam"
   ]
  },
  {
   "cell_type": "markdown",
   "metadata": {},
   "source": [
    "#### most interactive reviewers "
   ]
  },
  {
   "cell_type": "code",
   "execution_count": 51,
   "metadata": {},
   "outputs": [],
   "source": [
    "query =\"\"\" SELECT reviewers.reviewer_id, reviewer_name, count(reviews.id) as counts from reviews\n",
    "JOIN reviewers ON reviews.reviewer_id=reviewers.reviewer_id \n",
    "GROUP BY reviewers.reviewer_id, reviewer_name \n",
    "ORDER BY counts DESC LIMIt 10\"\"\"\n",
    "cur.execute(query)\n",
    "rows=cur.fetchall()\n",
    "conn.commit()"
   ]
  },
  {
   "cell_type": "code",
   "execution_count": 52,
   "metadata": {},
   "outputs": [
    {
     "data": {
      "text/plain": [
       "[(12574897, 'Michel', 25),\n",
       " (44092711, 'Markus', 20),\n",
       " (11318929, 'Philippe', 18),\n",
       " (2644225, 'Joeran', 14),\n",
       " (24554860, 'Sidney', 13),\n",
       " (8749900, 'Joshua', 12),\n",
       " (1291027, 'Andrea', 11),\n",
       " (9426660, 'Thomas', 11),\n",
       " (35708120, 'Jim', 11),\n",
       " (7647712, 'Bernard', 11)]"
      ]
     },
     "execution_count": 52,
     "metadata": {},
     "output_type": "execute_result"
    }
   ],
   "source": [
    "rows"
   ]
  },
  {
   "cell_type": "markdown",
   "metadata": {},
   "source": [
    "#### Number of reviews per listing and their corresponding average review rating "
   ]
  },
  {
   "cell_type": "code",
   "execution_count": 53,
   "metadata": {},
   "outputs": [],
   "source": [
    "query =\"\"\" SELECT reviews.listing_id, count(reviews.id) as counts,AVG(listings.review_scores_rating)  from reviews\n",
    "JOIN listings ON reviews.listing_id=listings.id \n",
    "GROUP BY reviews.listing_id\n",
    "ORDER BY counts DESC LIMIt 10\"\"\"\n",
    "cur.execute(query)\n",
    "rows=cur.fetchall()\n",
    "conn.commit()"
   ]
  },
  {
   "cell_type": "code",
   "execution_count": 54,
   "metadata": {},
   "outputs": [
    {
     "data": {
      "text/plain": [
       "[(82482, 695, 88.0),\n",
       " (1469096, 631, 94.0),\n",
       " (1814121, 606, 94.0),\n",
       " (785432, 602, 95.0),\n",
       " (152280, 580, 88.0),\n",
       " (694850, 576, 96.0),\n",
       " (68290, 574, 96.0),\n",
       " (654931, 541, 96.0),\n",
       " (239647, 540, 96.0),\n",
       " (68873, 527, 96.0)]"
      ]
     },
     "execution_count": 54,
     "metadata": {},
     "output_type": "execute_result"
    }
   ],
   "source": [
    "rows"
   ]
  },
  {
   "cell_type": "markdown",
   "metadata": {},
   "source": [
    "listings '82482', '1469096' have more than 631 reviews but '1469096' seems to have more positive feedbacks"
   ]
  },
  {
   "cell_type": "markdown",
   "metadata": {},
   "source": [
    "## STEP 4 : Clean up AWS resources "
   ]
  },
  {
   "cell_type": "code",
   "execution_count": 55,
   "metadata": {},
   "outputs": [
    {
     "data": {
      "text/plain": [
       "{'Cluster': {'ClusterIdentifier': 'capstone-project-2021',\n",
       "  'NodeType': 'dc2.large',\n",
       "  'ClusterStatus': 'deleting',\n",
       "  'ClusterAvailabilityStatus': 'Modifying',\n",
       "  'MasterUsername': 'database_user-12',\n",
       "  'DBName': 'my_database',\n",
       "  'Endpoint': {'Address': 'capstone-project-2021.cahjwy6ny05j.us-west-2.redshift.amazonaws.com',\n",
       "   'Port': 5439},\n",
       "  'ClusterCreateTime': datetime.datetime(2021, 1, 18, 14, 20, 0, 279000, tzinfo=tzutc()),\n",
       "  'AutomatedSnapshotRetentionPeriod': 1,\n",
       "  'ManualSnapshotRetentionPeriod': -1,\n",
       "  'ClusterSecurityGroups': [],\n",
       "  'VpcSecurityGroups': [{'VpcSecurityGroupId': 'sg-1d670a33',\n",
       "    'Status': 'active'}],\n",
       "  'ClusterParameterGroups': [{'ParameterGroupName': 'default.redshift-1.0',\n",
       "    'ParameterApplyStatus': 'in-sync'}],\n",
       "  'ClusterSubnetGroupName': 'default',\n",
       "  'VpcId': 'vpc-61eca419',\n",
       "  'AvailabilityZone': 'us-west-2b',\n",
       "  'PreferredMaintenanceWindow': 'sat:11:00-sat:11:30',\n",
       "  'PendingModifiedValues': {},\n",
       "  'ClusterVersion': '1.0',\n",
       "  'AllowVersionUpgrade': True,\n",
       "  'NumberOfNodes': 4,\n",
       "  'PubliclyAccessible': True,\n",
       "  'Encrypted': False,\n",
       "  'Tags': [],\n",
       "  'EnhancedVpcRouting': False,\n",
       "  'IamRoles': [{'IamRoleArn': 'arn:aws:iam::185187464837:role/iamRoleName',\n",
       "    'ApplyStatus': 'in-sync'}],\n",
       "  'MaintenanceTrackName': 'current',\n",
       "  'DeferredMaintenanceWindows': [],\n",
       "  'NextMaintenanceWindowStartTime': datetime.datetime(2021, 1, 23, 11, 0, tzinfo=tzutc())},\n",
       " 'ResponseMetadata': {'RequestId': 'e930b073-4184-4440-ad72-20bbd9cc864e',\n",
       "  'HTTPStatusCode': 200,\n",
       "  'HTTPHeaders': {'x-amzn-requestid': 'e930b073-4184-4440-ad72-20bbd9cc864e',\n",
       "   'content-type': 'text/xml',\n",
       "   'content-length': '2584',\n",
       "   'vary': 'accept-encoding',\n",
       "   'date': 'Mon, 18 Jan 2021 14:21:33 GMT'},\n",
       "  'RetryAttempts': 0}}"
      ]
     },
     "execution_count": 55,
     "metadata": {},
     "output_type": "execute_result"
    }
   ],
   "source": [
    "redshift.delete_cluster(ClusterIdentifier= CLUSTER_IDENTIFIER, SkipFinalClusterSnapshot= True)"
   ]
  },
  {
   "cell_type": "code",
   "execution_count": 56,
   "metadata": {},
   "outputs": [
    {
     "data": {
      "text/html": [
       "<div>\n",
       "<style scoped>\n",
       "    .dataframe tbody tr th:only-of-type {\n",
       "        vertical-align: middle;\n",
       "    }\n",
       "\n",
       "    .dataframe tbody tr th {\n",
       "        vertical-align: top;\n",
       "    }\n",
       "\n",
       "    .dataframe thead th {\n",
       "        text-align: right;\n",
       "    }\n",
       "</style>\n",
       "<table border=\"1\" class=\"dataframe\">\n",
       "  <thead>\n",
       "    <tr style=\"text-align: right;\">\n",
       "      <th></th>\n",
       "      <th>Key</th>\n",
       "      <th>Value</th>\n",
       "    </tr>\n",
       "  </thead>\n",
       "  <tbody>\n",
       "    <tr>\n",
       "      <th>0</th>\n",
       "      <td>ClusterIdentifier</td>\n",
       "      <td>capstone-project-2021</td>\n",
       "    </tr>\n",
       "    <tr>\n",
       "      <th>1</th>\n",
       "      <td>NodeType</td>\n",
       "      <td>dc2.large</td>\n",
       "    </tr>\n",
       "    <tr>\n",
       "      <th>2</th>\n",
       "      <td>ClusterStatus</td>\n",
       "      <td>deleting</td>\n",
       "    </tr>\n",
       "    <tr>\n",
       "      <th>3</th>\n",
       "      <td>MasterUsername</td>\n",
       "      <td>database_user-12</td>\n",
       "    </tr>\n",
       "    <tr>\n",
       "      <th>4</th>\n",
       "      <td>DBName</td>\n",
       "      <td>my_database</td>\n",
       "    </tr>\n",
       "    <tr>\n",
       "      <th>5</th>\n",
       "      <td>Endpoint</td>\n",
       "      <td>{'Address': 'capstone-project-2021.cahjwy6ny05j.us-west-2.redshift.amazonaws.com', 'Port': 5439}</td>\n",
       "    </tr>\n",
       "    <tr>\n",
       "      <th>6</th>\n",
       "      <td>VpcId</td>\n",
       "      <td>vpc-61eca419</td>\n",
       "    </tr>\n",
       "    <tr>\n",
       "      <th>7</th>\n",
       "      <td>NumberOfNodes</td>\n",
       "      <td>4</td>\n",
       "    </tr>\n",
       "  </tbody>\n",
       "</table>\n",
       "</div>"
      ],
      "text/plain": [
       "                 Key  \\\n",
       "0  ClusterIdentifier   \n",
       "1           NodeType   \n",
       "2      ClusterStatus   \n",
       "3     MasterUsername   \n",
       "4             DBName   \n",
       "5           Endpoint   \n",
       "6              VpcId   \n",
       "7      NumberOfNodes   \n",
       "\n",
       "                                                                                              Value  \n",
       "0                                                                             capstone-project-2021  \n",
       "1                                                                                         dc2.large  \n",
       "2                                                                                          deleting  \n",
       "3                                                                                  database_user-12  \n",
       "4                                                                                       my_database  \n",
       "5  {'Address': 'capstone-project-2021.cahjwy6ny05j.us-west-2.redshift.amazonaws.com', 'Port': 5439}  \n",
       "6                                                                                      vpc-61eca419  \n",
       "7                                                                                                 4  "
      ]
     },
     "execution_count": 56,
     "metadata": {},
     "output_type": "execute_result"
    }
   ],
   "source": [
    "myClusterProps=redshift.describe_clusters(ClusterIdentifier= CLUSTER_IDENTIFIER)['Clusters'][0]\n",
    "description( myClusterProps)\n"
   ]
  },
  {
   "cell_type": "code",
   "execution_count": null,
   "metadata": {},
   "outputs": [],
   "source": []
  }
 ],
 "metadata": {
  "kernelspec": {
   "display_name": "Python 3",
   "language": "python",
   "name": "python3"
  },
  "language_info": {
   "codemirror_mode": {
    "name": "ipython",
    "version": 3
   },
   "file_extension": ".py",
   "mimetype": "text/x-python",
   "name": "python",
   "nbconvert_exporter": "python",
   "pygments_lexer": "ipython3",
   "version": "3.8.3"
  }
 },
 "nbformat": 4,
 "nbformat_minor": 4
}
